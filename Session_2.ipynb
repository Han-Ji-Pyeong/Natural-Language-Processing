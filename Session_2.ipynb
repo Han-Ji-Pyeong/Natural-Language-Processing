{
 "cells": [
  {
   "cell_type": "code",
   "execution_count": 1,
   "metadata": {},
   "outputs": [
    {
     "name": "stdout",
     "output_type": "stream",
     "text": [
      "Words          Porter         Snowball       Lancaster      \n",
      "run            run            run            run            \n",
      "running        run            run            run            \n",
      "runner         runner         runner         run            \n",
      "walk           walk           walk           walk           \n",
      "walking        walk           walk           walk           \n",
      "code           code           code           cod            \n",
      "coding         code           code           cod            \n",
      "programming    program        program        program        \n",
      "better         better         better         bet            \n",
      "driving        drive          drive          driv           \n",
      "Words          Porter         Snowball       Lancaster      \n",
      "run            run            run            run            \n",
      "running        run            run            run            \n",
      "runner         runner         runner         run            \n",
      "walk           walk           walk           walk           \n",
      "walking        walk           walk           walk           \n",
      "code           code           code           cod            \n",
      "coding         code           code           cod            \n",
      "programming    program        program        program        \n",
      "better         better         better         bet            \n",
      "driving        drive          drive          driv           \n"
     ]
    }
   ],
   "source": [
    "# Stemming# Stemming\n",
    "import nltk\n",
    "from nltk.stem import PorterStemmer, SnowballStemmer, LancasterStemmer\n",
    "\n",
    "porter = PorterStemmer()\n",
    "snowball = SnowballStemmer('english')\n",
    "lancaster = LancasterStemmer()\n",
    "\n",
    "words = [\"run\", \"running\", \"runner\", \"walk\", \"walking\", \"code\", \"coding\", \"programming\", \"better\", \"driving\"]\n",
    "\n",
    "print(f\"{'Words':15}{'Porter':15}{'Snowball':15}{'Lancaster':15}\")\n",
    "for w in words:\n",
    "    print(f\"{w:15}{porter.stem(w):15}{snowball.stem(w):15}{lancaster.stem(w):15}\")\n",
    "import nltk\n",
    "from nltk.stem import PorterStemmer, SnowballStemmer, LancasterStemmer\n",
    "\n",
    "porter = PorterStemmer()\n",
    "snowball = SnowballStemmer('english')\n",
    "lancaster = LancasterStemmer()\n",
    "\n",
    "words = [\"run\", \"running\", \"runner\", \"walk\", \"walking\", \"code\", \"coding\", \"programming\", \"better\", \"driving\"]\n",
    "\n",
    "print(f\"{'Words':15}{'Porter':15}{'Snowball':15}{'Lancaster':15}\")\n",
    "for w in words:\n",
    "    print(f\"{w:15}{porter.stem(w):15}{snowball.stem(w):15}{lancaster.stem(w):15}\")"
   ]
  },
  {
   "cell_type": "code",
   "execution_count": 2,
   "metadata": {},
   "outputs": [
    {
     "name": "stdout",
     "output_type": "stream",
     "text": [
      "good\n",
      "well\n",
      "better\n",
      "better\n"
     ]
    }
   ],
   "source": [
    "from nltk.stem import WordNetLemmatizer\n",
    "wnl = WordNetLemmatizer()\n",
    "\n",
    "word = \"better\"\n",
    "\n",
    "print(wnl.lemmatize(word, pos=\"a\")) # adverb\n",
    "print(wnl.lemmatize(word, pos=\"r\")) # adjective\n",
    "print(wnl.lemmatize(word, pos=\"v\")) # verb\n",
    "print(wnl.lemmatize(word, pos=\"n\")) # noun"
   ]
  }
 ],
 "metadata": {
  "kernelspec": {
   "display_name": "nlp",
   "language": "python",
   "name": "python3"
  },
  "language_info": {
   "codemirror_mode": {
    "name": "ipython",
    "version": 3
   },
   "file_extension": ".py",
   "mimetype": "text/x-python",
   "name": "python",
   "nbconvert_exporter": "python",
   "pygments_lexer": "ipython3",
   "version": "3.10.9"
  }
 },
 "nbformat": 4,
 "nbformat_minor": 2
}
