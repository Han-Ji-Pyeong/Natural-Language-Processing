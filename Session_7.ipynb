{
 "cells": [
  {
   "cell_type": "code",
   "execution_count": 4,
   "metadata": {},
   "outputs": [
    {
     "name": "stdout",
     "output_type": "stream",
     "text": [
      "['aku suka' 'hansel suka' 'joel tidak' 'makan nasi' 'makan sushi'\n",
      " 'suka makan' 'tidak suka']\n",
      "[[1 0 0 1 0 1 0]\n",
      " [0 1 0 0 1 1 0]\n",
      " [0 0 1 1 0 1 1]]\n"
     ]
    }
   ],
   "source": [
    "#Import Library\n",
    "from sklearn.feature_extraction.text import  CountVectorizer\n",
    "\n",
    "#Define Text\n",
    "text = [\n",
    "    'Aku suka makan nasi',\n",
    "    'Hansel suka makan sushi',\n",
    "    'Joel tidak suka makan nasi'\n",
    "]\n",
    "\n",
    "#Define N Gram\n",
    "n = 2 #Bi-gram\n",
    "\n",
    "#Define Vectorizer\n",
    "Vectorizer = CountVectorizer(ngram_range=(n,n))\n",
    "\n",
    "#Fit and transform the data\n",
    "data = Vectorizer.fit_transform(text)\n",
    "\n",
    "#N Features\n",
    "bi_gram = Vectorizer.get_feature_names_out()\n",
    "\n",
    "#Print \n",
    "print(bi_gram)\n",
    "print(data.toarray())"
   ]
  }
 ],
 "metadata": {
  "kernelspec": {
   "display_name": "nlp",
   "language": "python",
   "name": "python3"
  },
  "language_info": {
   "codemirror_mode": {
    "name": "ipython",
    "version": 3
   },
   "file_extension": ".py",
   "mimetype": "text/x-python",
   "name": "python",
   "nbconvert_exporter": "python",
   "pygments_lexer": "ipython3",
   "version": "3.10.9"
  }
 },
 "nbformat": 4,
 "nbformat_minor": 2
}
